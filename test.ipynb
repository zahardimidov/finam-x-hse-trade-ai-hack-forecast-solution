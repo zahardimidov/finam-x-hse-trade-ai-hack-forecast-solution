{
 "cells": [
  {
   "cell_type": "code",
   "execution_count": null,
   "id": "7e7138e9",
   "metadata": {},
   "outputs": [],
   "source": [
    "import pandas as pd\n",
    "from main import AiForecast\n",
    "import numpy as np\n",
    "\n",
    "# Пути к исходным данным\n",
    "train_candles_path = \"data/candles.csv\"\n",
    "train_news_path = \"data/news.csv\"\n",
    "\n",
    "# Загружаем данные\n",
    "candles = pd.read_csv(train_candles_path, parse_dates=['begin'])\n",
    "news = pd.read_csv(train_news_path, parse_dates=['publish_date'])\n",
    "\n",
    "# --- Определяем временные границы ---\n",
    "train_start = pd.Timestamp(\"2020-06-19\")\n",
    "train_end   = pd.Timestamp(\"2025-01-01\")\n",
    "\n",
    "predict_start = pd.Timestamp(\"2025-01-01\")\n",
    "predict_end   = pd.Timestamp(\"2025-05-01\")   # не включая 2025-05-01\n",
    "\n",
    "real_start = pd.Timestamp(\"2025-05-01\")\n",
    "real_end   = pd.Timestamp(\"2025-05-21\")\n",
    "\n",
    "# --- Создаем выборки для свечей ---\n",
    "candles_train = candles[(candles['begin'] >= train_start) & (candles['begin'] <= train_end)].copy()\n",
    "candles_for_predict = candles[(candles['begin'] >= predict_start) & (candles['begin'] < predict_end)].copy()\n",
    "candles_real_results = candles[(candles['begin'] >= real_start) & (candles['begin'] <= real_end)].copy()\n",
    "\n",
    "# --- Аналогично для новостей ---\n",
    "news_train = news[(news['publish_date'] >= train_start) & (news['publish_date'] <= train_end)].copy()\n",
    "news_for_predict = news[(news['publish_date'] >= predict_start) & (news['publish_date'] < predict_end)].copy()\n",
    "news_real_results = news[(news['publish_date'] >= real_start) & (news['publish_date'] <= real_end)].copy()\n",
    "\n"
   ]
  },
  {
   "cell_type": "code",
   "execution_count": null,
   "id": "70c6c787",
   "metadata": {},
   "outputs": [],
   "source": [
    "def evaluate_submission(submission_df, test_candles_df):\n",
    "    \"\"\"\n",
    "    submission_df: датафрейм с колонками ticker,p1..p20\n",
    "    test_candles_df: реальные закрытия\n",
    "    \"\"\"\n",
    "    metrics = {}\n",
    "    for horizon in range(1, 21):\n",
    "        col = f\"p{horizon}\"\n",
    "        true_returns = []\n",
    "        pred_returns = []\n",
    "        for ticker in submission_df[\"ticker\"]:\n",
    "            df_ticker = test_candles_df[\n",
    "                test_candles_df[\"ticker\"] == ticker\n",
    "            ].sort_values(\"begin\")\n",
    "            if len(df_ticker) <= horizon:\n",
    "                continue\n",
    "            close_0 = df_ticker.iloc[0][\"close\"]\n",
    "            close_h = df_ticker.iloc[horizon][\"close\"]\n",
    "            R_true = close_h / close_0 - 1\n",
    "            R_pred = submission_df[submission_df[\"ticker\"] == ticker][col].values[0]\n",
    "            true_returns.append(R_true)\n",
    "            pred_returns.append(R_pred)\n",
    "        true_returns = np.array(true_returns)\n",
    "        pred_returns = np.array(pred_returns)\n",
    "        rmse = np.sqrt(np.mean((true_returns - pred_returns) ** 2))\n",
    "        metrics[col] = rmse\n",
    "    return metrics"
   ]
  },
  {
   "cell_type": "code",
   "execution_count": null,
   "id": "1f399d62",
   "metadata": {},
   "outputs": [],
   "source": [
    "ai_forecast = AiForecast(artifact_dir='./test_artifact')\n",
    "\n",
    "ai_forecast.train(candles_train, news_train)\n",
    "submission = ai_forecast.predict(candles_for_predict, news_for_predict)\n",
    "\n",
    "submission.to_csv(\"test_submission.csv\", index=False)"
   ]
  },
  {
   "cell_type": "code",
   "execution_count": null,
   "id": "8193218d",
   "metadata": {},
   "outputs": [],
   "source": [
    "import matplotlib.pyplot as plt\n",
    "\n",
    "metrics = evaluate_submission(submission, candles_real_results)\n",
    "\n",
    "print(metrics)\n",
    "\n",
    "plt.figure(figsize=(10,5))\n",
    "plt.plot(range(1,21), list(metrics.values()), marker='o')\n",
    "plt.title('RMSE по горизонту прогноза')\n",
    "plt.xlabel('Горизонт (дней вперёд)')\n",
    "plt.ylabel('RMSE ошибки')\n",
    "plt.grid(True)\n",
    "plt.show()\n"
   ]
  }
 ],
 "metadata": {
  "kernelspec": {
   "display_name": "finam-x-hse-trade-ai-hack-forecast-solution",
   "language": "python",
   "name": "python3"
  },
  "language_info": {
   "codemirror_mode": {
    "name": "ipython",
    "version": 3
   },
   "file_extension": ".py",
   "mimetype": "text/x-python",
   "name": "python",
   "nbconvert_exporter": "python",
   "pygments_lexer": "ipython3",
   "version": "3.11.11"
  }
 },
 "nbformat": 4,
 "nbformat_minor": 5
}
